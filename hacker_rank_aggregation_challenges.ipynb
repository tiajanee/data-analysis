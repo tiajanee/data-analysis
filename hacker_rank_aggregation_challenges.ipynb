{
 "cells": [
  {
   "cell_type": "markdown",
   "metadata": {},
   "source": [
    "# hacker rank MYSQL aggregation challenges.\n",
    "\n",
    "### count function\n",
    "1.\n",
    "```mysql\n",
    "SELECT COUNT(*) FROM CITY\n",
    "WHERE POPULATION > 100000\n",
    "```\n",
    "### sum function\n",
    "2.\n",
    "```mysql\n",
    "SELECT SUM(POPULATION) FROM CITY\n",
    "WHERE DISTRICT = 'CALIFORNIA'\n",
    "```\n",
    "### averages\n",
    "3.\n",
    "```mysql\n",
    "SELECT AVG(POPULATION) FROM CITY\n",
    "WHERE DISTRICT = 'CALIFORNIA'\n",
    "```\n",
    "### population averages\n",
    "4.\n",
    "```mysql\n",
    "SELECT ROUND(AVG(POPULATION)) FROM CITY\n",
    "```\n",
    "### japan population\n",
    "5.\n",
    "```mysql\n",
    "SELECT SUM(POPULATION) FROM CITY\n",
    "WHERE COUNTRYCODE = 'JPN'\n",
    "```\n",
    "### population density difference\n",
    "6.\n",
    "```mysql\n",
    "SELECT MAX(POPULATION) - MIN(POPULATION) FROM CITY\n",
    "```"
   ]
  }
 ],
 "metadata": {
  "kernelspec": {
   "display_name": "Python 3",
   "language": "python",
   "name": "python3"
  },
  "language_info": {
   "codemirror_mode": {
    "name": "ipython",
    "version": 3
   },
   "file_extension": ".py",
   "mimetype": "text/x-python",
   "name": "python",
   "nbconvert_exporter": "python",
   "pygments_lexer": "ipython3",
   "version": "3.6.3"
  }
 },
 "nbformat": 4,
 "nbformat_minor": 2
}
