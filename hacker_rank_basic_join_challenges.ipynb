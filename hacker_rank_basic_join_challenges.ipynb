{
 "cells": [
  {
   "cell_type": "markdown",
   "metadata": {},
   "source": [
    "# hacker rank MYSQL basic-join challenges\n",
    "\n",
    "\n",
    "### asian populations\n",
    "\n",
    "1. \n",
    "```mysql\n",
    "SELECT SUM(CITY.POPULATION) FROM CITY \n",
    "JOIN COUNTRY \n",
    "ON CITY.COUNTRYCODE = COUNTRY.CODE\n",
    "WHERE COUNTRY.CONTINENT = 'ASIA'\n",
    "```\n",
    "\n",
    "### african cities\n",
    "\n",
    "2.\n",
    "```mysql\n",
    "SELECT CITY.NAME FROM CITY\n",
    "JOIN COUNTRY\n",
    "ON CITY.COUNTRYCODE = COUNTRY.CODE\n",
    "WHERE CONTINENT = 'Africa'\n",
    "```\n",
    "### average populations of each continent\n",
    "\n",
    "3.\n",
    "```mysql\n",
    "SELECT COUNTRY.CONTINENT, ROUND(AVG(CITY.POPULATION)-0.5) FROM CITY\n",
    "JOIN COUNTRY\n",
    "ON COUNTRY.CODE = CITY.COUNTRYCODE\n",
    "GROUP BY COUNTRY.CONTINENT\n",
    "```\n",
    "### the report\n",
    "\n",
    "4.\n",
    "```mysql\n",
    "SELECT (CASE GRADES.GRADE >= 8 WHEN TRUE THEN STUDENTS.NAME ELSE NULL END), GRADES.GRADE, STUDENTS.MARKS FROM STUDENTS\n",
    "INNER JOIN GRADES\n",
    "ON STUDENTS.MARKS\n",
    "BETWEEN MIN_MARK AND MAX_MARK \n",
    "ORDER BY GRADES.GRADE DESC, STUDENTS.NAME, STUDENTS.MARKS\n",
    "```\n"
   ]
  }
 ],
 "metadata": {
  "kernelspec": {
   "display_name": "Python 3",
   "language": "python",
   "name": "python3"
  },
  "language_info": {
   "codemirror_mode": {
    "name": "ipython",
    "version": 3
   },
   "file_extension": ".py",
   "mimetype": "text/x-python",
   "name": "python",
   "nbconvert_exporter": "python",
   "pygments_lexer": "ipython3",
   "version": "3.6.3"
  }
 },
 "nbformat": 4,
 "nbformat_minor": 2
}
