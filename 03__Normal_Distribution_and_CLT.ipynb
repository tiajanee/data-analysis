{
 "cells": [
  {
   "cell_type": "markdown",
   "metadata": {},
   "source": [
    "<center><img src='img/ms_logo.jpeg' height=40% width=40%></center>\n",
    "\n",
    "<center><h1>Normal Distribution & Central Limit Theorem</h1></center>\n",
    "\n",
    "If the class lecture was your first exposure to the Central Limit Theorem (CLT), it can seem a bit confusing.  The goal of this notebook is to demystify the CLT by having you write an algorithm that actually uses sampling to approximate a normal distribution from a non-normally distributed data set.  \n",
    "\n",
    "In this notebook you will:\n",
    "\n",
    "1. Run code to generate a non-normal data set.  \n",
    "1. Create an function to randomly sample subsets of data.\n",
    "1. Create a data set of the means of each sample.\n",
    "1. Visualize the distribution of the means of each sample.  \n",
    "\n",
    "\n",
    "<center><h3>Creating our Dummy Data</h3></center>\n",
    "\n",
    "We're going to use numpy to create a non-normal distribution.  The easiest way to do this is just to create a uniform distribution!  \n",
    "\n",
    "**TASKS:** Run the code below to import numpy and set a random seed, and then use numpy to create a uniform distribution with integer values between 0 and 100.\n",
    "\n",
    "(Hint: For integer values, random.uniform is not our best choice since it generates floats.  Which numpy method should you use to generate a uniform distribution of random integers?)"
   ]
  },
  {
   "cell_type": "code",
   "execution_count": 5,
   "metadata": {
    "collapsed": true
   },
   "outputs": [],
   "source": [
    "# Run this cell to import the packages you'll need and set a seed\n",
    "import numpy as np\n",
    "import pandas as pd\n",
    "import matplotlib.pyplot as plt\n",
    "%matplotlib inline\n",
    "\n",
    "# Please dont change this--otherwise, you'll get different results from everyone else!\n",
    "np.random.seed(1547)"
   ]
  },
  {
   "cell_type": "code",
   "execution_count": 6,
   "metadata": {},
   "outputs": [
    {
     "data": {
      "text/plain": [
       "<matplotlib.axes._subplots.AxesSubplot at 0x112ad0710>"
      ]
     },
     "execution_count": 6,
     "metadata": {},
     "output_type": "execute_result"
    },
    {
     "data": {
      "image/png": "[encoded data removed]",
      "text/plain": [
       "<matplotlib.figure.Figure at 0x10f390e48>"
      ]
     },
     "metadata": {},
     "output_type": "display_data"
    }
   ],
   "source": [
    "# Create a uniform distribution of 10000 integers between 0 and 100.\n",
    "non_normal_data = np.random.randint(low=0, high=100, size=10000)\n",
    "\n",
    "# Use plt.hist() to visualize our the distribution of our dummy data set\n",
    "\n",
    "nnd_df = pd.DataFrame(non_normal_data)\n",
    "nnd_df.plot.hist()\n"
   ]
  },
  {
   "cell_type": "markdown",
   "metadata": {},
   "source": [
    "<center><h3>Creating a Sampling Function</h3></center>\n",
    "\n",
    "Now that we have created our data set, we'll need to sample from it.  In order to do this, you'll need to create two different functions--a `get_sample` to create random samples of size 'n', and a `create_sample_distribution` function to actually create a sample distribution of size `n` (using our helper function). \n",
    "\n",
    "Your `get_sample` function should:\n",
    "\n",
    "1.  Take a keyword argument for sample size (called 'n' for short)\n",
    "1.  Randomly grab 'n' samples from the uniform distribution with replacement (any samples selected should NOT be removed from the original data set).\n",
    "1.  Calculate the mean of the sub-sample and return it.\n",
    "\n",
    "\n",
    "Your `create_sample_distribution` function should:\n",
    "\n",
    "1.  Take a keyword argument for size, which will determine the total size of the sample distribution.\n",
    "1.  Use the `get_sample` helper function to create sample distributions and calculate sample mean.   \n",
    "1.  Store the sample mean.\n",
    "1.  Repeat this process until there a distribution of `[size]` sample means exist.  When the data set is complete, return it as a numpy array.  \n",
    "\n",
    "``` python\n",
    "def get_sample(dataset, n=30):\n",
    "    \"\"\"Grabs a random subsample of size 'n' from dataset.\n",
    "    Outputs the mean of the subsample.\"\"\"\n",
    "    pass\n",
    "\n",
    "def create_sample_distribution(dataset, size=100):\n",
    "    \"\"\"Creates a dataset of subsample means.  The length of the dataset is specified by the 'size' \n",
    "    keyword argument. Should return the entire sample distribution as a numpy array.  \"\"\"\n",
    "    pass\n",
    "```\n",
    "\n"
   ]
  },
  {
   "cell_type": "code",
   "execution_count": 7,
   "metadata": {
    "collapsed": true
   },
   "outputs": [],
   "source": [
    "# Complete the two functions below.   \n",
    "def get_sample(dataset, n=30):\n",
    "    \"\"\"Grabs a random subsample of size 'n' from dataset.\n",
    "    Outputs the mean of the subsample.\"\"\"\n",
    "    sample = np.random.choice(dataset, size=n)\n",
    "    return np.mean(sample)\n",
    "\n",
    "def create_sample_distribution(dataset, size=100):\n",
    "    \"\"\"Creates a dataset of subsample means.  The length of the dataset is specified by the 'size' \n",
    "    keyword argument. Should return the entire sample distribution as a numpy array.  \"\"\"\n",
    "    sample_ave = np.array([])\n",
    "    for i in range(0, size):\n",
    "        ave = get_sample(dataset)\n",
    "        sample_ave = np.append(sample_ave, ave)   \n",
    "    return sample_ave\n"
   ]
  },
  {
   "cell_type": "markdown",
   "metadata": {},
   "source": [
    "<center><h3>Visualizing our Sample Distribution</h3></center>\n",
    "\n",
    "Now that we have created our sample distribution, let's visualize it to determine if it's a normal distribution.  \n",
    "\n",
    "**TASK:** Use matplotlib to visualize our sample distribution."
   ]
  },
  {
   "cell_type": "code",
   "execution_count": 8,
   "metadata": {},
   "outputs": [
    {
     "data": {
      "text/plain": [
       "(array([  4.,  11.,  15.,  17.,  21.,  18.,   8.,   1.,   3.,   2.]),\n",
       " array([ 37.83333333,  40.50666667,  43.18      ,  45.85333333,\n",
       "         48.52666667,  51.2       ,  53.87333333,  56.54666667,\n",
       "         59.22      ,  61.89333333,  64.56666667]),\n",
       " <a list of 10 Patch objects>)"
      ]
     },
     "execution_count": 8,
     "metadata": {},
     "output_type": "execute_result"
    },
    {
     "data": {
      "image/png": "[encoded data removed]",
      "text/plain": [
       "<matplotlib.figure.Figure at 0x114a81cf8>"
      ]
     },
     "metadata": {},
     "output_type": "display_data"
    }
   ],
   "source": [
    "# Visualize our sample distribution below.\n",
    "# Remember, we aliased matplotlib.pyplot as plt!\n",
    "\n",
    "sample_ave = create_sample_distribution(non_normal_data)\n",
    "plt.hist(sample_ave)"
   ]
  },
  {
   "cell_type": "markdown",
   "metadata": {},
   "source": [
    "<center><h3>Great Job!</h3></center>\n",
    "\n",
    "Now that you've used the Central Limit Theorem, you're able to create to treat non-normally distributed datasets as normally distributed.  You can now compute Z-scores and compute probabilities for values in these datasets!  "
   ]
  }
 ],
 "metadata": {
  "kernelspec": {
   "display_name": "Python 3",
   "language": "python",
   "name": "python3"
  },
  "language_info": {
   "codemirror_mode": {
    "name": "ipython",
    "version": 3
   },
   "file_extension": ".py",
   "mimetype": "text/x-python",
   "name": "python",
   "nbconvert_exporter": "python",
   "pygments_lexer": "ipython3",
   "version": "3.6.3"
  }
 },
 "nbformat": 4,
 "nbformat_minor": 2
}
