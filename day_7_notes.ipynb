{
 "cells": [
  {
   "cell_type": "markdown",
   "metadata": {
    "slideshow": {
     "slide_type": "slide"
    }
   },
   "source": [
    "# Data Science Notes, Day 7\n",
    "\n",
    "#### Necessary Skills:\n",
    "* Programming\n",
    "* Statistics\n",
    "* Business Knowledge/Domain Expertise\n",
    "\n",
    "1.Question/Goal ----- > 2. Data Sources -----> 3. Investigate the Data ----> 4. Analyze the Data ----> 5. Present\n",
    "\n",
    "1. What are my goals? What do I need to know? Who knows this field already?\n",
    "2. Get Data\n",
    "3. What do I have? What needs cleaning?\n",
    "4. Experiments, Trends\n",
    "5. Determine: Actionable, or not Actionable?\n",
    "\n",
    "Define.Measure.Analyze.Improve.Control.\n",
    "\n",
    "Superforecasters."
   ]
  }
 ],
 "metadata": {
  "celltoolbar": "Slideshow",
  "kernelspec": {
   "display_name": "Python 3",
   "language": "python",
   "name": "python3"
  },
  "language_info": {
   "codemirror_mode": {
    "name": "ipython",
    "version": 3
   },
   "file_extension": ".py",
   "mimetype": "text/x-python",
   "name": "python",
   "nbconvert_exporter": "python",
   "pygments_lexer": "ipython3",
   "version": "3.6.3"
  }
 },
 "nbformat": 4,
 "nbformat_minor": 2
}
